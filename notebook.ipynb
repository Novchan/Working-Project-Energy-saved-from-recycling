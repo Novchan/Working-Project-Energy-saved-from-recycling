{
 "cells": [
  {
   "cell_type": "markdown",
   "metadata": {
    "dc": {
     "key": "4"
    },
    "deletable": false,
    "editable": false,
    "run_control": {
     "frozen": true
    },
    "tags": [
     "context"
    ]
   },
   "source": [
    "## Energy saved from recycling\n",
    "<p>Did you know that recycling saves energy by reducing or eliminating the need to make materials from scratch? For example, aluminum can manufacturers can skip the energy-costly process of producing aluminum from ore by cleaning and melting recycled cans. Aluminum is classified as a non-ferrous metal.</p>\n",
    "<p>Singapore has an ambitious goal of becoming a zero-waste nation. The amount of waste disposed of in Singapore has increased seven-fold over the last 40 years. At this rate, Semakau Landfill, Singapore’s only landfill, will run out of space by 2035. Making matters worse, Singapore has limited land for building new incineration plants or landfills.</p>\n",
    "<p>The government would like to motivate citizens by sharing the total energy that the combined recycling efforts have saved every year. They have asked you to help them.</p>\n",
    "<p>You have been provided with three datasets. The data come from different teams, so the names of waste types may differ.</p>\n",
    "<div style=\"background-color: #efebe4; color: #05192d; text-align:left; vertical-align: middle; padding: 15px 25px 15px 25px; line-height: 1.6;\">\n",
    "    <div style=\"font-size:16px\"><b>datasets/wastestats.csv - Recycling statistics per waste type for the period 2003 to 2017</b>\n",
    "    </div>\n",
    "    <div>Source: <a href=\"https://www.nea.gov.sg/our-services/waste-management/waste-statistics-and-overall-recycling\">Singapore National Environment Agency</a></div>\n",
    "<ul>\n",
    "    <li><b>waste_type: </b>The type of waste recycled.</li>\n",
    "    <li><b>waste_disposed_of_tonne: </b>The amount of waste that could not be recycled (in metric tonnes).</li>\n",
    "    <li><b>total_waste_recycle_tonne: </b>The amount of waste that could be recycled (in metric tonnes).</li>\n",
    "    <li><b>total_waste_generated: </b>The total amount of waste collected before recycling (in metric tonnes).</li>\n",
    "    <li><b>recycling_rate: </b>The amount of waste recycled per tonne of waste generated.</li>\n",
    "    <li><b>year: </b>The recycling year.</li>\n",
    "</ul>\n",
    "    </div>\n",
    "<div style=\"background-color: #efebe4; color: #05192d; text-align:left; vertical-align: middle; padding: 15px 25px 15px 25px; line-height: 1.6; margin-top: 17px;\">\n",
    "    <div style=\"font-size:16px\"><b>datasets/2018_2019_waste.csv - Recycling statistics per waste type for the period 2018 to 2019</b>\n",
    "    </div>\n",
    "    <div> Source: <a href=\"https://www.nea.gov.sg/our-services/waste-management/waste-statistics-and-overall-recycling\">Singapore National Environment Agency</a></div>\n",
    "<ul>\n",
    "    <li><b>Waste Type: </b>The type of waste recycled.</li>\n",
    "    <li><b>Total Generated: </b>The total amount of waste collected before recycling (in thousands of metric tonnes).</li> \n",
    "    <li><b>Total Recycled: </b>The amount of waste that could be recycled. (in thousands of metric tonnes).</li>\n",
    "    <li><b>Year: </b>The recycling year.</li>\n",
    "</ul>\n",
    "    </div>\n",
    "<div style=\"background-color: #efebe4; color: #05192d; text-align:left; vertical-align: middle; padding: 15px 25px 15px 25px; line-height: 1.6; margin-top: 17px;\">\n",
    "    <div style=\"font-size:16px\"><b>datasets/energy_saved.csv -  Estimations of the amount of energy saved per waste type in kWh</b>\n",
    "    </div>\n",
    "<ul>\n",
    "    <li><b>material: </b>The type of waste recycled.</li>\n",
    "    <li><b>energy_saved: </b>An estimate of the energy saved (in kiloWatt hour) by recycling a metric tonne of waste.</li> \n",
    "    <li><b>crude_oil_saved: </b>An estimate of the number of barrels of oil saved by recycling a metric tonne of waste.</li>\n",
    "</ul>\n",
    "\n",
    "</div>\n",
    "<pre><code>\n",
    "</code></pre>"
   ]
  },
  {
   "cell_type": "code",
   "execution_count": 1,
   "metadata": {
    "dc": {
     "key": "4"
    },
    "tags": [
     "sample_code"
    ]
   },
   "outputs": [],
   "source": [
    "# Use this cell to begin your analysis, and add as many as you would like!\n",
    "import numpy as np\n",
    "import pandas as pd"
   ]
  },
  {
   "cell_type": "code",
   "execution_count": 3,
   "metadata": {
    "dc": {
     "key": "4"
    }
   },
   "outputs": [],
   "source": [
    "waste_1819 = pd.read_csv('2018_2019_waste.csv')\n",
    "recycling_stat = pd.read_csv('wastestats.csv')\n",
    "energy_saved = pd.read_csv('energy_saved.csv')\n",
    "\n",
    "# print(waste_1819)\n",
    "# print(recycling_stat.head())\n",
    "# print(energy_saved)\n",
    "\n",
    "# recycling_stat.waste_type.value_counts()\n",
    "# recycling_stat[recycling_stat.waste_type=='Ferrous Metal']\n",
    "# recycling_stat[recycling_stat.year==2017]\n",
    "\n"
   ]
  },
  {
   "cell_type": "code",
   "execution_count": 11,
   "metadata": {
    "dc": {
     "key": "4"
    },
    "scrolled": true
   },
   "outputs": [],
   "source": [
    "new_df = recycling_stat[(recycling_stat['waste_type']=='Glass')|(recycling_stat['waste_type']=='Plastics')|(recycling_stat['waste_type']=='Ferrous Metal')|(recycling_stat['waste_type']=='Ferrous Metals')|(recycling_stat['waste_type']=='Non-ferrous metal')|(recycling_stat['waste_type']=='Non-ferrous metals')|(recycling_stat['waste_type']=='Non-ferrous Metals')|(recycling_stat['waste_type']=='Ferrous metal')|(recycling_stat['waste_type']=='Plastic')]\n",
    "\n",
    "new_new_df = new_df[new_df.year>2014]\n",
    "new_new_df.waste_type.value_counts()\n",
    "\n",
    "energy_sav = {'Plastic':5774,'Plastics':5774,'Glass':42,'Ferrous metal':642,'Non-ferrous metal':14000,'Non-ferrous metals':14000}\n",
    "\n",
    "pd.set_option('mode.chained_assignment', None)  #<--added here becoz Jupyter lab gives a SettingWithCopyWarning\n",
    "##  https://www.dataquest.io/blog/settingwithcopywarning/\n",
    "\n",
    "new_new_df['e_saved_type'] = new_new_df['waste_type'].map(lambda x: energy_sav[x]) \n",
    "\n",
    "new_new_df['total_energy_saved']=new_new_df['total_waste_recycled_tonne']*new_new_df['e_saved_type']\n",
    "\n",
    "new_new_df_grp = new_new_df.groupby('year').agg('sum')\n",
    "new_new_df_grp = new_new_df_grp.reset_index()\n",
    "\n",
    "new_new_df_grp\n",
    "\n",
    "part_1 = new_new_df_grp[['year','total_energy_saved']]"
   ]
  },
  {
   "cell_type": "code",
   "execution_count": 12,
   "metadata": {
    "dc": {
     "key": "4"
    }
   },
   "outputs": [],
   "source": [
    "new_1819 = waste_1819[(waste_1819['Waste Type']=='Plastics')|(waste_1819['Waste Type']=='Glass')|(waste_1819['Waste Type']=='Ferrous Metal')|(waste_1819['Waste Type']=='Non-Ferrous Metal')]\n",
    "\n",
    "energy_sav = {'Plastic':5774,'Plastics':5774,'Glass':42,'Ferrous Metal':642,'Non-Ferrous Metal':14000,'Non-ferrous metals':14000}\n",
    "\n",
    "new_1819['e_saved_type'] = new_1819['Waste Type'].map(lambda x: energy_sav[x])\n",
    "\n",
    "new_1819['total_energy_saved'] = new_1819[\"Total Recycled ('000 tonnes)\"]*1000*new_1819['e_saved_type']\n",
    "\n",
    "new_1819_grp = new_1819.groupby('Year').agg('sum')\n",
    "\n",
    "new_1819_grp = new_1819_grp.reset_index()\n",
    "\n",
    "new_1819_grp = new_1819_grp.rename(columns={'Year':'year'})\n",
    "\n",
    "part_2 = new_1819_grp[['year','total_energy_saved']]"
   ]
  },
  {
   "cell_type": "code",
   "execution_count": 13,
   "metadata": {
    "dc": {
     "key": "4"
    }
   },
   "outputs": [
    {
     "data": {
      "text/html": [
       "<div>\n",
       "<style scoped>\n",
       "    .dataframe tbody tr th:only-of-type {\n",
       "        vertical-align: middle;\n",
       "    }\n",
       "\n",
       "    .dataframe tbody tr th {\n",
       "        vertical-align: top;\n",
       "    }\n",
       "\n",
       "    .dataframe thead th {\n",
       "        text-align: right;\n",
       "    }\n",
       "</style>\n",
       "<table border=\"1\" class=\"dataframe\">\n",
       "  <thead>\n",
       "    <tr style=\"text-align: right;\">\n",
       "      <th></th>\n",
       "      <th>total_energy_saved</th>\n",
       "    </tr>\n",
       "    <tr>\n",
       "      <th>year</th>\n",
       "      <th></th>\n",
       "    </tr>\n",
       "  </thead>\n",
       "  <tbody>\n",
       "    <tr>\n",
       "      <th>2015</th>\n",
       "      <td>3.435929e+09</td>\n",
       "    </tr>\n",
       "    <tr>\n",
       "      <th>2016</th>\n",
       "      <td>2.554433e+09</td>\n",
       "    </tr>\n",
       "    <tr>\n",
       "      <th>2017</th>\n",
       "      <td>2.470596e+09</td>\n",
       "    </tr>\n",
       "    <tr>\n",
       "      <th>2018</th>\n",
       "      <td>2.698130e+09</td>\n",
       "    </tr>\n",
       "    <tr>\n",
       "      <th>2019</th>\n",
       "      <td>2.765440e+09</td>\n",
       "    </tr>\n",
       "  </tbody>\n",
       "</table>\n",
       "</div>"
      ],
      "text/plain": [
       "      total_energy_saved\n",
       "year                    \n",
       "2015        3.435929e+09\n",
       "2016        2.554433e+09\n",
       "2017        2.470596e+09\n",
       "2018        2.698130e+09\n",
       "2019        2.765440e+09"
      ]
     },
     "execution_count": 13,
     "metadata": {},
     "output_type": "execute_result"
    }
   ],
   "source": [
    "annual_energy_savings = pd.concat([part_1,part_2])\n",
    "\n",
    "annual_energy_savings = annual_energy_savings.set_index('year')\n",
    "\n",
    "annual_energy_savings"
   ]
  },
  {
   "cell_type": "code",
   "execution_count": null,
   "metadata": {},
   "outputs": [],
   "source": []
  }
 ],
 "metadata": {
  "kernelspec": {
   "display_name": "Python 3",
   "language": "python",
   "name": "python3"
  },
  "language_info": {
   "codemirror_mode": {
    "name": "ipython",
    "version": 3
   },
   "file_extension": ".py",
   "mimetype": "text/x-python",
   "name": "python",
   "nbconvert_exporter": "python",
   "pygments_lexer": "ipython3",
   "version": "3.9.5"
  }
 },
 "nbformat": 4,
 "nbformat_minor": 4
}
